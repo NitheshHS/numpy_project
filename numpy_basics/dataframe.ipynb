{
 "cells": [
  {
   "cell_type": "code",
   "id": "70254a07-233b-49d5-8686-64c9a4f5d411",
   "metadata": {
    "ExecuteTime": {
     "end_time": "2025-01-27T14:37:14.343677Z",
     "start_time": "2025-01-27T14:37:14.336307Z"
    }
   },
   "source": [
    "import pandas as pd\n",
    "\n",
    "data={\n",
    "    \"name\":['John','Anna','Peter', 'linda','james'],\n",
    "    \"age\":[28,30,40,22,25],\n",
    "    \"city\":['New York','London','Paris','Berlin','Madrid'],\n",
    "    \"salary\":[50000, 55000,60000,45000,70000]\n",
    "}\n",
    "#create dataframe and display first 3 rows\n",
    "df=pd.DataFrame(data)\n",
    "df.head(3)\n",
    "\n"
   ],
   "outputs": [
    {
     "data": {
      "text/plain": [
       "    name  age      city  salary\n",
       "0   John   28  New York   50000\n",
       "1   Anna   30    London   55000\n",
       "2  Peter   40     Paris   60000"
      ],
      "text/html": [
       "<div>\n",
       "<style scoped>\n",
       "    .dataframe tbody tr th:only-of-type {\n",
       "        vertical-align: middle;\n",
       "    }\n",
       "\n",
       "    .dataframe tbody tr th {\n",
       "        vertical-align: top;\n",
       "    }\n",
       "\n",
       "    .dataframe thead th {\n",
       "        text-align: right;\n",
       "    }\n",
       "</style>\n",
       "<table border=\"1\" class=\"dataframe\">\n",
       "  <thead>\n",
       "    <tr style=\"text-align: right;\">\n",
       "      <th></th>\n",
       "      <th>name</th>\n",
       "      <th>age</th>\n",
       "      <th>city</th>\n",
       "      <th>salary</th>\n",
       "    </tr>\n",
       "  </thead>\n",
       "  <tbody>\n",
       "    <tr>\n",
       "      <th>0</th>\n",
       "      <td>John</td>\n",
       "      <td>28</td>\n",
       "      <td>New York</td>\n",
       "      <td>50000</td>\n",
       "    </tr>\n",
       "    <tr>\n",
       "      <th>1</th>\n",
       "      <td>Anna</td>\n",
       "      <td>30</td>\n",
       "      <td>London</td>\n",
       "      <td>55000</td>\n",
       "    </tr>\n",
       "    <tr>\n",
       "      <th>2</th>\n",
       "      <td>Peter</td>\n",
       "      <td>40</td>\n",
       "      <td>Paris</td>\n",
       "      <td>60000</td>\n",
       "    </tr>\n",
       "  </tbody>\n",
       "</table>\n",
       "</div>"
      ]
     },
     "execution_count": 5,
     "metadata": {},
     "output_type": "execute_result"
    }
   ],
   "execution_count": 5
  },
  {
   "metadata": {
    "ExecuteTime": {
     "end_time": "2025-01-27T14:38:23.977047Z",
     "start_time": "2025-01-27T14:38:23.973209Z"
    }
   },
   "cell_type": "code",
   "source": [
    "# Select the column \"Salary\" and print it.\n",
    "df['salary']"
   ],
   "id": "58e97961735e3102",
   "outputs": [
    {
     "data": {
      "text/plain": [
       "0    50000\n",
       "1    55000\n",
       "2    60000\n",
       "3    45000\n",
       "4    70000\n",
       "Name: salary, dtype: int64"
      ]
     },
     "execution_count": 6,
     "metadata": {},
     "output_type": "execute_result"
    }
   ],
   "execution_count": 6
  },
  {
   "cell_type": "code",
   "id": "f3e66931-6a58-4aed-9661-645fcf54b18e",
   "metadata": {
    "ExecuteTime": {
     "end_time": "2025-01-27T14:39:52.316350Z",
     "start_time": "2025-01-27T14:39:52.310410Z"
    }
   },
   "source": [
    "# Select the row where the \"Name\" is \"Peter\".\n",
    "df.loc[df['name']=='Peter']"
   ],
   "outputs": [
    {
     "data": {
      "text/plain": [
       "    name  age   city  salary\n",
       "2  Peter   40  Paris   60000"
      ],
      "text/html": [
       "<div>\n",
       "<style scoped>\n",
       "    .dataframe tbody tr th:only-of-type {\n",
       "        vertical-align: middle;\n",
       "    }\n",
       "\n",
       "    .dataframe tbody tr th {\n",
       "        vertical-align: top;\n",
       "    }\n",
       "\n",
       "    .dataframe thead th {\n",
       "        text-align: right;\n",
       "    }\n",
       "</style>\n",
       "<table border=\"1\" class=\"dataframe\">\n",
       "  <thead>\n",
       "    <tr style=\"text-align: right;\">\n",
       "      <th></th>\n",
       "      <th>name</th>\n",
       "      <th>age</th>\n",
       "      <th>city</th>\n",
       "      <th>salary</th>\n",
       "    </tr>\n",
       "  </thead>\n",
       "  <tbody>\n",
       "    <tr>\n",
       "      <th>2</th>\n",
       "      <td>Peter</td>\n",
       "      <td>40</td>\n",
       "      <td>Paris</td>\n",
       "      <td>60000</td>\n",
       "    </tr>\n",
       "  </tbody>\n",
       "</table>\n",
       "</div>"
      ]
     },
     "execution_count": 7,
     "metadata": {},
     "output_type": "execute_result"
    }
   ],
   "execution_count": 7
  },
  {
   "metadata": {},
   "cell_type": "markdown",
   "source": "",
   "id": "f8e90ff650c92390"
  },
  {
   "metadata": {
    "ExecuteTime": {
     "end_time": "2025-01-27T14:40:50.570665Z",
     "start_time": "2025-01-27T14:40:50.564693Z"
    }
   },
   "cell_type": "code",
   "source": [
    "# Select the \"Age\" and \"City\" columns for all rows.\n",
    "df[['age', 'city']]"
   ],
   "id": "b44517f4f50c400d",
   "outputs": [
    {
     "data": {
      "text/plain": [
       "   age      city\n",
       "0   28  New York\n",
       "1   30    London\n",
       "2   40     Paris\n",
       "3   22    Berlin\n",
       "4   25    Madrid"
      ],
      "text/html": [
       "<div>\n",
       "<style scoped>\n",
       "    .dataframe tbody tr th:only-of-type {\n",
       "        vertical-align: middle;\n",
       "    }\n",
       "\n",
       "    .dataframe tbody tr th {\n",
       "        vertical-align: top;\n",
       "    }\n",
       "\n",
       "    .dataframe thead th {\n",
       "        text-align: right;\n",
       "    }\n",
       "</style>\n",
       "<table border=\"1\" class=\"dataframe\">\n",
       "  <thead>\n",
       "    <tr style=\"text-align: right;\">\n",
       "      <th></th>\n",
       "      <th>age</th>\n",
       "      <th>city</th>\n",
       "    </tr>\n",
       "  </thead>\n",
       "  <tbody>\n",
       "    <tr>\n",
       "      <th>0</th>\n",
       "      <td>28</td>\n",
       "      <td>New York</td>\n",
       "    </tr>\n",
       "    <tr>\n",
       "      <th>1</th>\n",
       "      <td>30</td>\n",
       "      <td>London</td>\n",
       "    </tr>\n",
       "    <tr>\n",
       "      <th>2</th>\n",
       "      <td>40</td>\n",
       "      <td>Paris</td>\n",
       "    </tr>\n",
       "    <tr>\n",
       "      <th>3</th>\n",
       "      <td>22</td>\n",
       "      <td>Berlin</td>\n",
       "    </tr>\n",
       "    <tr>\n",
       "      <th>4</th>\n",
       "      <td>25</td>\n",
       "      <td>Madrid</td>\n",
       "    </tr>\n",
       "  </tbody>\n",
       "</table>\n",
       "</div>"
      ]
     },
     "execution_count": 9,
     "metadata": {},
     "output_type": "execute_result"
    }
   ],
   "execution_count": 9
  },
  {
   "metadata": {
    "ExecuteTime": {
     "end_time": "2025-01-27T14:43:09.388276Z",
     "start_time": "2025-01-27T14:43:09.384149Z"
    }
   },
   "cell_type": "code",
   "source": [
    "# Add a new column \"Bonus\" with values: [2000, 2500, 3000, 1000, 3500]\n",
    "df['Bonus']=[2000, 2500, 3000, 1000, 3500]\n",
    "df.head()"
   ],
   "id": "eab7ded1da215a9b",
   "outputs": [
    {
     "data": {
      "text/plain": [
       "    name  age      city  salary  Bonus\n",
       "0   John   28  New York   50000   2000\n",
       "1   Anna   30    London   55000   2500\n",
       "2  Peter   40     Paris   60000   3000\n",
       "3  linda   22    Berlin   45000   1000\n",
       "4  james   25    Madrid   70000   3500"
      ],
      "text/html": [
       "<div>\n",
       "<style scoped>\n",
       "    .dataframe tbody tr th:only-of-type {\n",
       "        vertical-align: middle;\n",
       "    }\n",
       "\n",
       "    .dataframe tbody tr th {\n",
       "        vertical-align: top;\n",
       "    }\n",
       "\n",
       "    .dataframe thead th {\n",
       "        text-align: right;\n",
       "    }\n",
       "</style>\n",
       "<table border=\"1\" class=\"dataframe\">\n",
       "  <thead>\n",
       "    <tr style=\"text-align: right;\">\n",
       "      <th></th>\n",
       "      <th>name</th>\n",
       "      <th>age</th>\n",
       "      <th>city</th>\n",
       "      <th>salary</th>\n",
       "      <th>Bonus</th>\n",
       "    </tr>\n",
       "  </thead>\n",
       "  <tbody>\n",
       "    <tr>\n",
       "      <th>0</th>\n",
       "      <td>John</td>\n",
       "      <td>28</td>\n",
       "      <td>New York</td>\n",
       "      <td>50000</td>\n",
       "      <td>2000</td>\n",
       "    </tr>\n",
       "    <tr>\n",
       "      <th>1</th>\n",
       "      <td>Anna</td>\n",
       "      <td>30</td>\n",
       "      <td>London</td>\n",
       "      <td>55000</td>\n",
       "      <td>2500</td>\n",
       "    </tr>\n",
       "    <tr>\n",
       "      <th>2</th>\n",
       "      <td>Peter</td>\n",
       "      <td>40</td>\n",
       "      <td>Paris</td>\n",
       "      <td>60000</td>\n",
       "      <td>3000</td>\n",
       "    </tr>\n",
       "    <tr>\n",
       "      <th>3</th>\n",
       "      <td>linda</td>\n",
       "      <td>22</td>\n",
       "      <td>Berlin</td>\n",
       "      <td>45000</td>\n",
       "      <td>1000</td>\n",
       "    </tr>\n",
       "    <tr>\n",
       "      <th>4</th>\n",
       "      <td>james</td>\n",
       "      <td>25</td>\n",
       "      <td>Madrid</td>\n",
       "      <td>70000</td>\n",
       "      <td>3500</td>\n",
       "    </tr>\n",
       "  </tbody>\n",
       "</table>\n",
       "</div>"
      ]
     },
     "execution_count": 15,
     "metadata": {},
     "output_type": "execute_result"
    }
   ],
   "execution_count": 15
  },
  {
   "metadata": {
    "ExecuteTime": {
     "end_time": "2025-01-27T14:44:58.219384Z",
     "start_time": "2025-01-27T14:44:58.214287Z"
    }
   },
   "cell_type": "code",
   "source": [
    "# Calculate a new column \"Total Income\" which is the sum of \"Salary\" and \"Bonus\".\n",
    "df['Total Income'] = df['salary']+df['Bonus']\n",
    "df.head()"
   ],
   "id": "1f303fa3a45a2a14",
   "outputs": [
    {
     "data": {
      "text/plain": [
       "    name  age      city  salary  Bonus  Total Income\n",
       "0   John   28  New York   50000   2000         52000\n",
       "1   Anna   30    London   55000   2500         57500\n",
       "2  Peter   40     Paris   60000   3000         63000\n",
       "3  linda   22    Berlin   45000   1000         46000\n",
       "4  james   25    Madrid   70000   3500         73500"
      ],
      "text/html": [
       "<div>\n",
       "<style scoped>\n",
       "    .dataframe tbody tr th:only-of-type {\n",
       "        vertical-align: middle;\n",
       "    }\n",
       "\n",
       "    .dataframe tbody tr th {\n",
       "        vertical-align: top;\n",
       "    }\n",
       "\n",
       "    .dataframe thead th {\n",
       "        text-align: right;\n",
       "    }\n",
       "</style>\n",
       "<table border=\"1\" class=\"dataframe\">\n",
       "  <thead>\n",
       "    <tr style=\"text-align: right;\">\n",
       "      <th></th>\n",
       "      <th>name</th>\n",
       "      <th>age</th>\n",
       "      <th>city</th>\n",
       "      <th>salary</th>\n",
       "      <th>Bonus</th>\n",
       "      <th>Total Income</th>\n",
       "    </tr>\n",
       "  </thead>\n",
       "  <tbody>\n",
       "    <tr>\n",
       "      <th>0</th>\n",
       "      <td>John</td>\n",
       "      <td>28</td>\n",
       "      <td>New York</td>\n",
       "      <td>50000</td>\n",
       "      <td>2000</td>\n",
       "      <td>52000</td>\n",
       "    </tr>\n",
       "    <tr>\n",
       "      <th>1</th>\n",
       "      <td>Anna</td>\n",
       "      <td>30</td>\n",
       "      <td>London</td>\n",
       "      <td>55000</td>\n",
       "      <td>2500</td>\n",
       "      <td>57500</td>\n",
       "    </tr>\n",
       "    <tr>\n",
       "      <th>2</th>\n",
       "      <td>Peter</td>\n",
       "      <td>40</td>\n",
       "      <td>Paris</td>\n",
       "      <td>60000</td>\n",
       "      <td>3000</td>\n",
       "      <td>63000</td>\n",
       "    </tr>\n",
       "    <tr>\n",
       "      <th>3</th>\n",
       "      <td>linda</td>\n",
       "      <td>22</td>\n",
       "      <td>Berlin</td>\n",
       "      <td>45000</td>\n",
       "      <td>1000</td>\n",
       "      <td>46000</td>\n",
       "    </tr>\n",
       "    <tr>\n",
       "      <th>4</th>\n",
       "      <td>james</td>\n",
       "      <td>25</td>\n",
       "      <td>Madrid</td>\n",
       "      <td>70000</td>\n",
       "      <td>3500</td>\n",
       "      <td>73500</td>\n",
       "    </tr>\n",
       "  </tbody>\n",
       "</table>\n",
       "</div>"
      ]
     },
     "execution_count": 17,
     "metadata": {},
     "output_type": "execute_result"
    }
   ],
   "execution_count": 17
  },
  {
   "metadata": {
    "ExecuteTime": {
     "end_time": "2025-01-27T14:46:18.823933Z",
     "start_time": "2025-01-27T14:46:18.818294Z"
    }
   },
   "cell_type": "code",
   "source": [
    "# Filter the rows where the \"Age\" is greater than 30.\n",
    "df.loc[df['age']>30]"
   ],
   "id": "f08559adf55b8683",
   "outputs": [
    {
     "data": {
      "text/plain": [
       "    name  age   city  salary  Bonus  Total Income\n",
       "2  Peter   40  Paris   60000   3000         63000"
      ],
      "text/html": [
       "<div>\n",
       "<style scoped>\n",
       "    .dataframe tbody tr th:only-of-type {\n",
       "        vertical-align: middle;\n",
       "    }\n",
       "\n",
       "    .dataframe tbody tr th {\n",
       "        vertical-align: top;\n",
       "    }\n",
       "\n",
       "    .dataframe thead th {\n",
       "        text-align: right;\n",
       "    }\n",
       "</style>\n",
       "<table border=\"1\" class=\"dataframe\">\n",
       "  <thead>\n",
       "    <tr style=\"text-align: right;\">\n",
       "      <th></th>\n",
       "      <th>name</th>\n",
       "      <th>age</th>\n",
       "      <th>city</th>\n",
       "      <th>salary</th>\n",
       "      <th>Bonus</th>\n",
       "      <th>Total Income</th>\n",
       "    </tr>\n",
       "  </thead>\n",
       "  <tbody>\n",
       "    <tr>\n",
       "      <th>2</th>\n",
       "      <td>Peter</td>\n",
       "      <td>40</td>\n",
       "      <td>Paris</td>\n",
       "      <td>60000</td>\n",
       "      <td>3000</td>\n",
       "      <td>63000</td>\n",
       "    </tr>\n",
       "  </tbody>\n",
       "</table>\n",
       "</div>"
      ]
     },
     "execution_count": 18,
     "metadata": {},
     "output_type": "execute_result"
    }
   ],
   "execution_count": 18
  },
  {
   "metadata": {
    "ExecuteTime": {
     "end_time": "2025-01-27T14:47:07.910259Z",
     "start_time": "2025-01-27T14:47:07.905696Z"
    }
   },
   "cell_type": "code",
   "source": [
    "# Filter the rows where the \"Salary\" is greater than or equal to 55000.\n",
    "df.loc[df['salary']>=50000]"
   ],
   "id": "4195c9574b9b3f89",
   "outputs": [
    {
     "data": {
      "text/plain": [
       "    name  age      city  salary  Bonus  Total Income\n",
       "0   John   28  New York   50000   2000         52000\n",
       "1   Anna   30    London   55000   2500         57500\n",
       "2  Peter   40     Paris   60000   3000         63000\n",
       "4  james   25    Madrid   70000   3500         73500"
      ],
      "text/html": [
       "<div>\n",
       "<style scoped>\n",
       "    .dataframe tbody tr th:only-of-type {\n",
       "        vertical-align: middle;\n",
       "    }\n",
       "\n",
       "    .dataframe tbody tr th {\n",
       "        vertical-align: top;\n",
       "    }\n",
       "\n",
       "    .dataframe thead th {\n",
       "        text-align: right;\n",
       "    }\n",
       "</style>\n",
       "<table border=\"1\" class=\"dataframe\">\n",
       "  <thead>\n",
       "    <tr style=\"text-align: right;\">\n",
       "      <th></th>\n",
       "      <th>name</th>\n",
       "      <th>age</th>\n",
       "      <th>city</th>\n",
       "      <th>salary</th>\n",
       "      <th>Bonus</th>\n",
       "      <th>Total Income</th>\n",
       "    </tr>\n",
       "  </thead>\n",
       "  <tbody>\n",
       "    <tr>\n",
       "      <th>0</th>\n",
       "      <td>John</td>\n",
       "      <td>28</td>\n",
       "      <td>New York</td>\n",
       "      <td>50000</td>\n",
       "      <td>2000</td>\n",
       "      <td>52000</td>\n",
       "    </tr>\n",
       "    <tr>\n",
       "      <th>1</th>\n",
       "      <td>Anna</td>\n",
       "      <td>30</td>\n",
       "      <td>London</td>\n",
       "      <td>55000</td>\n",
       "      <td>2500</td>\n",
       "      <td>57500</td>\n",
       "    </tr>\n",
       "    <tr>\n",
       "      <th>2</th>\n",
       "      <td>Peter</td>\n",
       "      <td>40</td>\n",
       "      <td>Paris</td>\n",
       "      <td>60000</td>\n",
       "      <td>3000</td>\n",
       "      <td>63000</td>\n",
       "    </tr>\n",
       "    <tr>\n",
       "      <th>4</th>\n",
       "      <td>james</td>\n",
       "      <td>25</td>\n",
       "      <td>Madrid</td>\n",
       "      <td>70000</td>\n",
       "      <td>3500</td>\n",
       "      <td>73500</td>\n",
       "    </tr>\n",
       "  </tbody>\n",
       "</table>\n",
       "</div>"
      ]
     },
     "execution_count": 19,
     "metadata": {},
     "output_type": "execute_result"
    }
   ],
   "execution_count": 19
  },
  {
   "metadata": {
    "ExecuteTime": {
     "end_time": "2025-01-27T14:49:08.102532Z",
     "start_time": "2025-01-27T14:49:08.097207Z"
    }
   },
   "cell_type": "code",
   "source": "df.sort_values(by='age', ascending=False)",
   "id": "c9ac480c0f389a3e",
   "outputs": [
    {
     "data": {
      "text/plain": [
       "    name  age      city  salary  Bonus  Total Income\n",
       "2  Peter   40     Paris   60000   3000         63000\n",
       "1   Anna   30    London   55000   2500         57500\n",
       "0   John   28  New York   50000   2000         52000\n",
       "4  james   25    Madrid   70000   3500         73500\n",
       "3  linda   22    Berlin   45000   1000         46000"
      ],
      "text/html": [
       "<div>\n",
       "<style scoped>\n",
       "    .dataframe tbody tr th:only-of-type {\n",
       "        vertical-align: middle;\n",
       "    }\n",
       "\n",
       "    .dataframe tbody tr th {\n",
       "        vertical-align: top;\n",
       "    }\n",
       "\n",
       "    .dataframe thead th {\n",
       "        text-align: right;\n",
       "    }\n",
       "</style>\n",
       "<table border=\"1\" class=\"dataframe\">\n",
       "  <thead>\n",
       "    <tr style=\"text-align: right;\">\n",
       "      <th></th>\n",
       "      <th>name</th>\n",
       "      <th>age</th>\n",
       "      <th>city</th>\n",
       "      <th>salary</th>\n",
       "      <th>Bonus</th>\n",
       "      <th>Total Income</th>\n",
       "    </tr>\n",
       "  </thead>\n",
       "  <tbody>\n",
       "    <tr>\n",
       "      <th>2</th>\n",
       "      <td>Peter</td>\n",
       "      <td>40</td>\n",
       "      <td>Paris</td>\n",
       "      <td>60000</td>\n",
       "      <td>3000</td>\n",
       "      <td>63000</td>\n",
       "    </tr>\n",
       "    <tr>\n",
       "      <th>1</th>\n",
       "      <td>Anna</td>\n",
       "      <td>30</td>\n",
       "      <td>London</td>\n",
       "      <td>55000</td>\n",
       "      <td>2500</td>\n",
       "      <td>57500</td>\n",
       "    </tr>\n",
       "    <tr>\n",
       "      <th>0</th>\n",
       "      <td>John</td>\n",
       "      <td>28</td>\n",
       "      <td>New York</td>\n",
       "      <td>50000</td>\n",
       "      <td>2000</td>\n",
       "      <td>52000</td>\n",
       "    </tr>\n",
       "    <tr>\n",
       "      <th>4</th>\n",
       "      <td>james</td>\n",
       "      <td>25</td>\n",
       "      <td>Madrid</td>\n",
       "      <td>70000</td>\n",
       "      <td>3500</td>\n",
       "      <td>73500</td>\n",
       "    </tr>\n",
       "    <tr>\n",
       "      <th>3</th>\n",
       "      <td>linda</td>\n",
       "      <td>22</td>\n",
       "      <td>Berlin</td>\n",
       "      <td>45000</td>\n",
       "      <td>1000</td>\n",
       "      <td>46000</td>\n",
       "    </tr>\n",
       "  </tbody>\n",
       "</table>\n",
       "</div>"
      ]
     },
     "execution_count": 21,
     "metadata": {},
     "output_type": "execute_result"
    }
   ],
   "execution_count": 21
  },
  {
   "metadata": {
    "ExecuteTime": {
     "end_time": "2025-01-27T14:49:51.663884Z",
     "start_time": "2025-01-27T14:49:51.658148Z"
    }
   },
   "cell_type": "code",
   "source": [
    "# Sort the DataFrame by \"Salary\" in descending order.\n",
    "df.sort_values(by='salary', ascending=False)"
   ],
   "id": "1573634e3415d225",
   "outputs": [
    {
     "data": {
      "text/plain": [
       "    name  age      city  salary  Bonus  Total Income\n",
       "4  james   25    Madrid   70000   3500         73500\n",
       "2  Peter   40     Paris   60000   3000         63000\n",
       "1   Anna   30    London   55000   2500         57500\n",
       "0   John   28  New York   50000   2000         52000\n",
       "3  linda   22    Berlin   45000   1000         46000"
      ],
      "text/html": [
       "<div>\n",
       "<style scoped>\n",
       "    .dataframe tbody tr th:only-of-type {\n",
       "        vertical-align: middle;\n",
       "    }\n",
       "\n",
       "    .dataframe tbody tr th {\n",
       "        vertical-align: top;\n",
       "    }\n",
       "\n",
       "    .dataframe thead th {\n",
       "        text-align: right;\n",
       "    }\n",
       "</style>\n",
       "<table border=\"1\" class=\"dataframe\">\n",
       "  <thead>\n",
       "    <tr style=\"text-align: right;\">\n",
       "      <th></th>\n",
       "      <th>name</th>\n",
       "      <th>age</th>\n",
       "      <th>city</th>\n",
       "      <th>salary</th>\n",
       "      <th>Bonus</th>\n",
       "      <th>Total Income</th>\n",
       "    </tr>\n",
       "  </thead>\n",
       "  <tbody>\n",
       "    <tr>\n",
       "      <th>4</th>\n",
       "      <td>james</td>\n",
       "      <td>25</td>\n",
       "      <td>Madrid</td>\n",
       "      <td>70000</td>\n",
       "      <td>3500</td>\n",
       "      <td>73500</td>\n",
       "    </tr>\n",
       "    <tr>\n",
       "      <th>2</th>\n",
       "      <td>Peter</td>\n",
       "      <td>40</td>\n",
       "      <td>Paris</td>\n",
       "      <td>60000</td>\n",
       "      <td>3000</td>\n",
       "      <td>63000</td>\n",
       "    </tr>\n",
       "    <tr>\n",
       "      <th>1</th>\n",
       "      <td>Anna</td>\n",
       "      <td>30</td>\n",
       "      <td>London</td>\n",
       "      <td>55000</td>\n",
       "      <td>2500</td>\n",
       "      <td>57500</td>\n",
       "    </tr>\n",
       "    <tr>\n",
       "      <th>0</th>\n",
       "      <td>John</td>\n",
       "      <td>28</td>\n",
       "      <td>New York</td>\n",
       "      <td>50000</td>\n",
       "      <td>2000</td>\n",
       "      <td>52000</td>\n",
       "    </tr>\n",
       "    <tr>\n",
       "      <th>3</th>\n",
       "      <td>linda</td>\n",
       "      <td>22</td>\n",
       "      <td>Berlin</td>\n",
       "      <td>45000</td>\n",
       "      <td>1000</td>\n",
       "      <td>46000</td>\n",
       "    </tr>\n",
       "  </tbody>\n",
       "</table>\n",
       "</div>"
      ]
     },
     "execution_count": 22,
     "metadata": {},
     "output_type": "execute_result"
    }
   ],
   "execution_count": 22
  },
  {
   "metadata": {
    "ExecuteTime": {
     "end_time": "2025-01-27T14:52:00.529962Z",
     "start_time": "2025-01-27T14:52:00.524970Z"
    }
   },
   "cell_type": "code",
   "source": [
    "# Group the DataFrame by \"City\" and calculate the average salary for each city.\n",
    "df.groupby('city')['salary'].mean()"
   ],
   "id": "a2920ced9ddaa33",
   "outputs": [
    {
     "data": {
      "text/plain": [
       "city\n",
       "Berlin      45000.0\n",
       "London      55000.0\n",
       "Madrid      70000.0\n",
       "New York    50000.0\n",
       "Paris       60000.0\n",
       "Name: salary, dtype: float64"
      ]
     },
     "execution_count": 23,
     "metadata": {},
     "output_type": "execute_result"
    }
   ],
   "execution_count": 23
  },
  {
   "metadata": {
    "ExecuteTime": {
     "end_time": "2025-01-27T15:35:26.012760Z",
     "start_time": "2025-01-27T15:35:26.008517Z"
    }
   },
   "cell_type": "code",
   "source": [
    "# Create a new column \"Age Group\" where:\n",
    "# Age under 30 is categorized as \"Young\"\n",
    "# Age 30 or above is categorized as \"Adult\"\n",
    "df['Age Group'] = df['age'].apply(lambda x: 'Young' if x<30 else 'Adult')"
   ],
   "id": "d01f9d84014142a4",
   "outputs": [],
   "execution_count": 24
  },
  {
   "metadata": {
    "ExecuteTime": {
     "end_time": "2025-01-27T15:35:40.658447Z",
     "start_time": "2025-01-27T15:35:40.653392Z"
    }
   },
   "cell_type": "code",
   "source": "df.head()",
   "id": "ca602f1d581fc4f3",
   "outputs": [
    {
     "data": {
      "text/plain": [
       "    name  age      city  salary  Bonus  Total Income Age Group\n",
       "0   John   28  New York   50000   2000         52000     Young\n",
       "1   Anna   30    London   55000   2500         57500     Adult\n",
       "2  Peter   40     Paris   60000   3000         63000     Adult\n",
       "3  linda   22    Berlin   45000   1000         46000     Young\n",
       "4  james   25    Madrid   70000   3500         73500     Young"
      ],
      "text/html": [
       "<div>\n",
       "<style scoped>\n",
       "    .dataframe tbody tr th:only-of-type {\n",
       "        vertical-align: middle;\n",
       "    }\n",
       "\n",
       "    .dataframe tbody tr th {\n",
       "        vertical-align: top;\n",
       "    }\n",
       "\n",
       "    .dataframe thead th {\n",
       "        text-align: right;\n",
       "    }\n",
       "</style>\n",
       "<table border=\"1\" class=\"dataframe\">\n",
       "  <thead>\n",
       "    <tr style=\"text-align: right;\">\n",
       "      <th></th>\n",
       "      <th>name</th>\n",
       "      <th>age</th>\n",
       "      <th>city</th>\n",
       "      <th>salary</th>\n",
       "      <th>Bonus</th>\n",
       "      <th>Total Income</th>\n",
       "      <th>Age Group</th>\n",
       "    </tr>\n",
       "  </thead>\n",
       "  <tbody>\n",
       "    <tr>\n",
       "      <th>0</th>\n",
       "      <td>John</td>\n",
       "      <td>28</td>\n",
       "      <td>New York</td>\n",
       "      <td>50000</td>\n",
       "      <td>2000</td>\n",
       "      <td>52000</td>\n",
       "      <td>Young</td>\n",
       "    </tr>\n",
       "    <tr>\n",
       "      <th>1</th>\n",
       "      <td>Anna</td>\n",
       "      <td>30</td>\n",
       "      <td>London</td>\n",
       "      <td>55000</td>\n",
       "      <td>2500</td>\n",
       "      <td>57500</td>\n",
       "      <td>Adult</td>\n",
       "    </tr>\n",
       "    <tr>\n",
       "      <th>2</th>\n",
       "      <td>Peter</td>\n",
       "      <td>40</td>\n",
       "      <td>Paris</td>\n",
       "      <td>60000</td>\n",
       "      <td>3000</td>\n",
       "      <td>63000</td>\n",
       "      <td>Adult</td>\n",
       "    </tr>\n",
       "    <tr>\n",
       "      <th>3</th>\n",
       "      <td>linda</td>\n",
       "      <td>22</td>\n",
       "      <td>Berlin</td>\n",
       "      <td>45000</td>\n",
       "      <td>1000</td>\n",
       "      <td>46000</td>\n",
       "      <td>Young</td>\n",
       "    </tr>\n",
       "    <tr>\n",
       "      <th>4</th>\n",
       "      <td>james</td>\n",
       "      <td>25</td>\n",
       "      <td>Madrid</td>\n",
       "      <td>70000</td>\n",
       "      <td>3500</td>\n",
       "      <td>73500</td>\n",
       "      <td>Young</td>\n",
       "    </tr>\n",
       "  </tbody>\n",
       "</table>\n",
       "</div>"
      ]
     },
     "execution_count": 25,
     "metadata": {},
     "output_type": "execute_result"
    }
   ],
   "execution_count": 25
  },
  {
   "metadata": {
    "ExecuteTime": {
     "end_time": "2025-01-27T15:39:36.305948Z",
     "start_time": "2025-01-27T15:39:36.297886Z"
    }
   },
   "cell_type": "code",
   "source": [
    "# Use a lambda function to calculate the \"Salary after Tax\" which is 90% of the \"Salary\".\n",
    "df['Salary After Tax'] = df['salary'].apply(lambda x: x*0.9)\n",
    "df.head()"
   ],
   "id": "7cf8586d721d2491",
   "outputs": [
    {
     "data": {
      "text/plain": [
       "    name  age      city  salary  Bonus  Total Income Age Group  \\\n",
       "0   John   28  New York   50000   2000         52000     Young   \n",
       "1   Anna   30    London   55000   2500         57500     Adult   \n",
       "2  Peter   40     Paris   60000   3000         63000     Adult   \n",
       "3  linda   22    Berlin   45000   1000         46000     Young   \n",
       "4  james   25    Madrid   70000   3500         73500     Young   \n",
       "\n",
       "   Salary After Tax  \n",
       "0           45000.0  \n",
       "1           49500.0  \n",
       "2           54000.0  \n",
       "3           40500.0  \n",
       "4           63000.0  "
      ],
      "text/html": [
       "<div>\n",
       "<style scoped>\n",
       "    .dataframe tbody tr th:only-of-type {\n",
       "        vertical-align: middle;\n",
       "    }\n",
       "\n",
       "    .dataframe tbody tr th {\n",
       "        vertical-align: top;\n",
       "    }\n",
       "\n",
       "    .dataframe thead th {\n",
       "        text-align: right;\n",
       "    }\n",
       "</style>\n",
       "<table border=\"1\" class=\"dataframe\">\n",
       "  <thead>\n",
       "    <tr style=\"text-align: right;\">\n",
       "      <th></th>\n",
       "      <th>name</th>\n",
       "      <th>age</th>\n",
       "      <th>city</th>\n",
       "      <th>salary</th>\n",
       "      <th>Bonus</th>\n",
       "      <th>Total Income</th>\n",
       "      <th>Age Group</th>\n",
       "      <th>Salary After Tax</th>\n",
       "    </tr>\n",
       "  </thead>\n",
       "  <tbody>\n",
       "    <tr>\n",
       "      <th>0</th>\n",
       "      <td>John</td>\n",
       "      <td>28</td>\n",
       "      <td>New York</td>\n",
       "      <td>50000</td>\n",
       "      <td>2000</td>\n",
       "      <td>52000</td>\n",
       "      <td>Young</td>\n",
       "      <td>45000.0</td>\n",
       "    </tr>\n",
       "    <tr>\n",
       "      <th>1</th>\n",
       "      <td>Anna</td>\n",
       "      <td>30</td>\n",
       "      <td>London</td>\n",
       "      <td>55000</td>\n",
       "      <td>2500</td>\n",
       "      <td>57500</td>\n",
       "      <td>Adult</td>\n",
       "      <td>49500.0</td>\n",
       "    </tr>\n",
       "    <tr>\n",
       "      <th>2</th>\n",
       "      <td>Peter</td>\n",
       "      <td>40</td>\n",
       "      <td>Paris</td>\n",
       "      <td>60000</td>\n",
       "      <td>3000</td>\n",
       "      <td>63000</td>\n",
       "      <td>Adult</td>\n",
       "      <td>54000.0</td>\n",
       "    </tr>\n",
       "    <tr>\n",
       "      <th>3</th>\n",
       "      <td>linda</td>\n",
       "      <td>22</td>\n",
       "      <td>Berlin</td>\n",
       "      <td>45000</td>\n",
       "      <td>1000</td>\n",
       "      <td>46000</td>\n",
       "      <td>Young</td>\n",
       "      <td>40500.0</td>\n",
       "    </tr>\n",
       "    <tr>\n",
       "      <th>4</th>\n",
       "      <td>james</td>\n",
       "      <td>25</td>\n",
       "      <td>Madrid</td>\n",
       "      <td>70000</td>\n",
       "      <td>3500</td>\n",
       "      <td>73500</td>\n",
       "      <td>Young</td>\n",
       "      <td>63000.0</td>\n",
       "    </tr>\n",
       "  </tbody>\n",
       "</table>\n",
       "</div>"
      ]
     },
     "execution_count": 27,
     "metadata": {},
     "output_type": "execute_result"
    }
   ],
   "execution_count": 27
  }
 ],
 "metadata": {
  "kernelspec": {
   "display_name": "Python 3 (ipykernel)",
   "language": "python",
   "name": "python3"
  },
  "language_info": {
   "codemirror_mode": {
    "name": "ipython",
    "version": 3
   },
   "file_extension": ".py",
   "mimetype": "text/x-python",
   "name": "python",
   "nbconvert_exporter": "python",
   "pygments_lexer": "ipython3",
   "version": "3.10.7"
  }
 },
 "nbformat": 4,
 "nbformat_minor": 5
}
